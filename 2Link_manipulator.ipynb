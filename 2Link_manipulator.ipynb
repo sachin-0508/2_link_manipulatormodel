{
 "cells": [
  {
   "attachments": {},
   "cell_type": "markdown",
   "metadata": {},
   "source": [
    "Importing libraries\n"
   ]
  },
  {
   "cell_type": "code",
   "execution_count": 11,
   "metadata": {},
   "outputs": [],
   "source": [
    "import sympy as sp\n",
    "from sympy import *\n",
    "from sympy.physics.mechanics import dynamicsymbols\n",
    "import matplotlib.pyplot as plt\n",
    "from sympy.physics.vector import init_vprinting\n",
    "init_vprinting(use_latex='mathjax', pretty_print=False)\n",
    "\n"
   ]
  },
  {
   "attachments": {},
   "cell_type": "markdown",
   "metadata": {},
   "source": [
    "Declaring variables"
   ]
  },
  {
   "cell_type": "code",
   "execution_count": 12,
   "metadata": {},
   "outputs": [],
   "source": [
    "theta1, theta2,theta3, d1, d2,d3,a0,a1,a2 , alpha0,alpha1,alpha2, a0,a1,a2, d = dynamicsymbols('theta1:4  d1:4 a0:3 alpha0:3 a0:3 d')\n",
    "DH_table=sp.Matrix([[alpha0,alpha1,alpha2],   [a0,a1,a2],  [theta1,theta2,theta3],    [ d1,d2,d3] ] )\n",
    "DH_table=DH_table.transpose()\n",
    "#(DH_table)"
   ]
  },
  {
   "attachments": {},
   "cell_type": "markdown",
   "metadata": {},
   "source": [
    "Finding DH Parameters table"
   ]
  },
  {
   "cell_type": "code",
   "execution_count": 13,
   "metadata": {},
   "outputs": [],
   "source": [
    "def DH_parameter_table_fn():\n",
    "    values= {alpha0:0,alpha1:0,alpha2:0,    a0:0,   theta3:0,   d1:0,d2:0,d3:0  }\n",
    "    DH_table_withvalue=DH_table.subs(values)\n",
    "    return (DH_table_withvalue)"
   ]
  },
  {
   "attachments": {},
   "cell_type": "markdown",
   "metadata": {},
   "source": [
    "Non-standard Transformation matrix definition"
   ]
  },
  {
   "cell_type": "code",
   "execution_count": 14,
   "metadata": {},
   "outputs": [],
   "source": [
    "\n",
    "theta_i,theta_i_1, a_i_1, d_i=dynamicsymbols(\"theta_i theta_i-1 a_i-1 d_i\")\n",
    "alpha_i,alpha_i_1=dynamicsymbols(\"alpha_i alpha_i-1\")\n",
    "#pprint(thetai+thetaj+a_i_1)\n",
    "transformation_matrix=sp.Matrix([[sp.cos(theta_i), -sp.sin(theta_i), 0, a_i_1],\n",
    "                                    [sp.cos(alpha_i_1)*sp.sin(theta_i),sp.cos(theta_i)*cos(alpha_i_1),-sp.sin(alpha_i_1),-d_i*sp.sin(alpha_i_1)],\n",
    "                                    [sp.sin(theta_i)*sp.sin(alpha_i_1), sp.cos(theta_i)*sp.sin(alpha_i_1),sp.cos(alpha_i_1),d_i*sp.cos(alpha_i_1)],\n",
    "                                    [0,0,0,1]   \n",
    "                                    ])\n"
   ]
  },
  {
   "attachments": {},
   "cell_type": "markdown",
   "metadata": {},
   "source": [
    "Finding the transformation matrices and the final transformation matrix"
   ]
  },
  {
   "cell_type": "code",
   "execution_count": 15,
   "metadata": {},
   "outputs": [],
   "source": [
    "\n",
    "\n",
    "l1,l2=sp.symbols(\"l1:3\")\n",
    "\n",
    "transform_0_1_values={theta_i:theta1 , alpha_i_1:0, a_i_1:0, d_i:0}\n",
    "transform_0_1=transformation_matrix.subs(transform_0_1_values)\n",
    "#pprint(transform_0_1)\n",
    "\n",
    "transform_1_2_values={theta_i:theta2 , alpha_i_1:0, a_i_1:l1, d_i:0}\n",
    "transform_1_2=transformation_matrix.subs(transform_1_2_values)\n",
    "#pprint(transform_1_2)\n",
    "\n",
    "transform_2_3_values={theta_i:0 , alpha_i_1:0, a_i_1:l2, d_i:0}\n",
    "transform_2_3=transformation_matrix.subs(transform_2_3_values)\n",
    "#pprint(transform_2_3)\n",
    "    \n",
    "transform_0_2=transform_0_1*transform_1_2\n",
    "transform_0_2.simplify()\n",
    "#transform_0_2\n",
    "\n",
    "transform_0_3=transform_0_1*transform_1_2*transform_2_3\n",
    "transform_0_3.simplify()\n",
    "    \n"
   ]
  },
  {
   "attachments": {},
   "cell_type": "markdown",
   "metadata": {},
   "source": [
    "Forward Kinematics"
   ]
  },
  {
   "cell_type": "code",
   "execution_count": 16,
   "metadata": {},
   "outputs": [],
   "source": [
    "def forward_kinematics():\n",
    "    import math\n",
    "    t_1=float(input(\"Enter theta1: \"))\n",
    "    t_2=float(input(\"Enter theta2: \"))\n",
    "    l_1=float(input(\"Enter l1: \"))\n",
    "    l_2=float(input(\"Enter l2: \"))\n",
    "    t_1=t_1*(sp.pi/180.0)\n",
    "    t_2=t_2*(sp.pi/180.0)\n",
    "\n",
    "    user_input_values={theta1:t_1, theta2:t_2, l1:l_1, l2:l_2}\n",
    "\n",
    "    Output_t_0_2=transform_0_2.subs(user_input_values)\n",
    "    x_mid,y_mid=Output_t_0_2[0,3],Output_t_0_2[1,3]\n",
    "\n",
    "    Output_transform=transform_0_3.subs(user_input_values)\n",
    "    Output_transform.simplify()\n",
    "    print(\"Transformation matrix: \\n\")\n",
    "    pprint(Output_transform)\n",
    "    print(\"\\nEnd-effector position: \",(Output_transform[0,3].simplify(),Output_transform[1,3]))\n",
    "    x_end=Output_transform[0,3]\n",
    "    y_end=Output_transform[1,3]\n",
    "    return create_frame(x_mid,y_mid,x_end,y_end,l_1,l_2)\n"
   ]
  },
  {
   "attachments": {},
   "cell_type": "markdown",
   "metadata": {},
   "source": [
    "Plotting the manipulator for given values"
   ]
  },
  {
   "cell_type": "code",
   "execution_count": 17,
   "metadata": {},
   "outputs": [],
   "source": [
    "def create_frame(x_mid,y_mid,x_end,y_end,l_1,l_2,legend=0):\n",
    "        x = [0,x_mid, x_end]\n",
    "        y = [0,y_mid, y_end]\n",
    "        #plt.figure(figsize=(6, 6))\n",
    "        plt.axhline(0, color='b')\n",
    "        plt.axvline(0, color='b')\n",
    "        plt.plot(x, y, 'black',label=\"Links\")\n",
    "        plt.plot(x_end,y_end,'go',label='End effector position')\n",
    "        plt.plot(x_mid,y_mid,'ro')\n",
    "        plt.plot(0,0,'ro',label='Positions of joints')\n",
    "        if(legend==0):\n",
    "                plt.legend(loc='lower right')\n",
    "        # 'bo' stands for blue circle marker\n",
    "        plt.xlim(-(l_1+l_2+10), l_1+l_2+10)\n",
    "        plt.ylim(-(l_1+l_2+10), l_1+l_2+10)\n",
    "        #plt.savefig(f'./img/img_{t}.png', transparent = False,  facecolor = 'white')\n"
   ]
  },
  {
   "attachments": {},
   "cell_type": "markdown",
   "metadata": {},
   "source": [
    "Inverse kinematics"
   ]
  },
  {
   "cell_type": "code",
   "execution_count": 18,
   "metadata": {},
   "outputs": [],
   "source": [
    "def inverse_kinematics():\n",
    "    x1_end=float(input(\"Enter x-component of end-effector: \"))\n",
    "    y1_end=float(input(\"Enter y-component of end-effector: \"))\n",
    "    l_1=float(input(\"Enter l1: \"))\n",
    "    l_2=float(input(\"Enter l2: \"))\n",
    "\n",
    "    thet_2 = acos((x1_end**2+y1_end**2-l1**2-l2**2)/(2*l1*l2))\n",
    "    thet_1=atan(sp.Integer(y1_end)/x1_end)-atan((l2*sp.sin(thet_2))/(l1+l2*sp.cos(thet_2)))\n",
    "    inverse_values={theta1:thet_1, theta2:thet_2, l1:l_1, l2:l_2}\n",
    "    x1_mid=transform_0_2[0,3]\n",
    "    x1_mid=x1_mid.subs(inverse_values)\n",
    "    y1_mid=transform_0_2[1,3]\n",
    "    y1_mid=y1_mid.subs(inverse_values)\n",
    "\n",
    "\n",
    "    return create_frame(x1_mid,y1_mid,x1_end,y1_end,l_1,l_2)\n",
    "\n",
    "\n",
    "\n",
    "\n",
    "\n",
    "\n"
   ]
  },
  {
   "attachments": {},
   "cell_type": "markdown",
   "metadata": {},
   "source": [
    "Workspace\n"
   ]
  },
  {
   "cell_type": "code",
   "execution_count": 19,
   "metadata": {},
   "outputs": [],
   "source": [
    "def workspace():\n",
    "    import time\n",
    "    legendpass=0\n",
    "    len1=float(input(\"Enter the first link length: \"))\n",
    "    len2=float(input(\"Enter the second link length: \"))\n",
    "    for t1 in range(-90,91,90):\n",
    "        for t2 in range(-90,91,30):\n",
    "            t1=t1*(sp.pi/180.0)\n",
    "            t2=t2*(sp.pi/180.0)\n",
    "\n",
    "            \n",
    "            uservalues={theta1:t1, theta2:t2, l1:len1, l2:len2}\n",
    "            \n",
    "            x_mid_ws,y_mid_ws=transform_0_2[0,3].subs(uservalues),transform_0_2[1,3].subs(uservalues)\n",
    "            x_end_ws=transform_0_3[0,3].subs(uservalues)\n",
    "            y_end_ws=transform_0_3[1,3].subs(uservalues)\n",
    "            \n",
    "            create_frame(x_mid_ws,y_mid_ws,x_end_ws,y_end_ws,len1,len2,legendpass)\n",
    "            legendpass+=1\n",
    "    \n",
    "        \n",
    "        \n"
   ]
  },
  {
   "attachments": {},
   "cell_type": "markdown",
   "metadata": {},
   "source": [
    "Calling function"
   ]
  },
  {
   "cell_type": "code",
   "execution_count": 20,
   "metadata": {},
   "outputs": [
    {
     "name": "stdout",
     "output_type": "stream",
     "text": [
      "Transformation matrix: \n",
      "\n",
      "⎡cos(0.366666666666667⋅π)  -sin(0.366666666666667⋅π)  0  6.0⋅cos(0.36666666666\n",
      "⎢                                                                             \n",
      "⎢sin(0.366666666666667⋅π)  cos(0.366666666666667⋅π)   0  5.0⋅sin(0.17777777777\n",
      "⎢                                                                             \n",
      "⎢           0                          0              1                       \n",
      "⎢                                                                             \n",
      "⎣           0                          0              0                       \n",
      "\n",
      "6667⋅π) + 5.0⋅cos(0.177777777777778⋅π)⎤\n",
      "                                      ⎥\n",
      "7778⋅π) + 6.0⋅sin(0.366666666666667⋅π)⎥\n",
      "                                      ⎥\n",
      "        0                             ⎥\n",
      "                                      ⎥\n",
      "        1                             ⎦\n",
      "\n",
      "End-effector position:  (6.0*cos(0.366666666666667*pi) + 5.0*cos(0.177777777777778*pi), 5.0*sin(0.177777777777778*pi) + 6.0*sin(0.366666666666667*pi))\n"
     ]
    },
    {
     "data": {
      "image/png": "[encoded data removed]",
      "text/plain": [
       "<Figure size 640x480 with 1 Axes>"
      ]
     },
     "metadata": {},
     "output_type": "display_data"
    }
   ],
   "source": [
    "choice=int(input(\"1-Forward kinematics\\n2-Inverse kinematics\\n3-Workspace \"))\n",
    "if(choice==1):\n",
    "    forward_kinematics()\n",
    "elif(choice==2):\n",
    "    inverse_kinematics()\n",
    "elif(choice==3):\n",
    "    workspace()\n",
    "\n"
   ]
  },
  {
   "cell_type": "code",
   "execution_count": null,
   "metadata": {},
   "outputs": [],
   "source": []
  }
 ],
 "metadata": {
  "kernelspec": {
   "display_name": "base",
   "language": "python",
   "name": "python3"
  },
  "language_info": {
   "codemirror_mode": {
    "name": "ipython",
    "version": 3
   },
   "file_extension": ".py",
   "mimetype": "text/x-python",
   "name": "python",
   "nbconvert_exporter": "python",
   "pygments_lexer": "ipython3",
   "version": "3.9.13"
  },
  "orig_nbformat": 4
 },
 "nbformat": 4,
 "nbformat_minor": 2
}
